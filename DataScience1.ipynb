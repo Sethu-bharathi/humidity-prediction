{
  "nbformat": 4,
  "nbformat_minor": 0,
  "metadata": {
    "colab": {
      "name": "DataScience1",
      "provenance": [],
      "collapsed_sections": [],
      "authorship_tag": "ABX9TyNyt14iKyb3fJwOWg+IiED0",
      "include_colab_link": true
    },
    "kernelspec": {
      "name": "python3",
      "display_name": "Python 3"
    },
    "language_info": {
      "name": "python"
    }
  },
  "cells": [
    {
      "cell_type": "markdown",
      "metadata": {
        "id": "view-in-github",
        "colab_type": "text"
      },
      "source": [
        "<a href=\"https://colab.research.google.com/github/Sethu-bharathi/humidity-prediction/blob/main/DataScience1.ipynb\" target=\"_parent\"><img src=\"https://colab.research.google.com/assets/colab-badge.svg\" alt=\"Open In Colab\"/></a>"
      ]
    },
    {
      "cell_type": "markdown",
      "metadata": {
        "id": "om-fZty_maeS"
      },
      "source": [
        "#**Finding relation between Temperature and Humidity**"
      ]
    },
    {
      "cell_type": "code",
      "metadata": {
        "id": "LvJK2sSXLNm7"
      },
      "source": [
        "import numpy as np\n",
        "import pandas as pd\n",
        "from matplotlib import pyplot as plt\n",
        "from sklearn.linear_model import LinearRegression"
      ],
      "execution_count": null,
      "outputs": []
    },
    {
      "cell_type": "code",
      "metadata": {
        "colab": {
          "base_uri": "https://localhost:8080/",
          "height": 417
        },
        "id": "45KVPylkLsxT",
        "outputId": "f3f24b0a-580a-40b6-826e-88d589d5c78e"
      },
      "source": [
        "#Reading the dataset\n",
        "dataset=pd.read_csv(\"https://raw.githubusercontent.com/Sethu-bharathi/Datasets/master/Temp%20and%20humidity.csv\")\n",
        "dataset[\"T=22.0\"]=dataset[\"T=22.0\"].astype(str)\n",
        "dataset.rename(columns={\"3/14/19\":\"Date\",\"19:33:07\":\"Time\",\"T=22.0\":\"Temperature\",\"H=20.0\":\"Humidity\"},inplace=True)\n",
        "dataset"
      ],
      "execution_count": null,
      "outputs": [
        {
          "output_type": "execute_result",
          "data": {
            "text/html": [
              "<div>\n",
              "<style scoped>\n",
              "    .dataframe tbody tr th:only-of-type {\n",
              "        vertical-align: middle;\n",
              "    }\n",
              "\n",
              "    .dataframe tbody tr th {\n",
              "        vertical-align: top;\n",
              "    }\n",
              "\n",
              "    .dataframe thead th {\n",
              "        text-align: right;\n",
              "    }\n",
              "</style>\n",
              "<table border=\"1\" class=\"dataframe\">\n",
              "  <thead>\n",
              "    <tr style=\"text-align: right;\">\n",
              "      <th></th>\n",
              "      <th>Date</th>\n",
              "      <th>Time</th>\n",
              "      <th>Temperature</th>\n",
              "      <th>Humidity</th>\n",
              "    </tr>\n",
              "  </thead>\n",
              "  <tbody>\n",
              "    <tr>\n",
              "      <th>0</th>\n",
              "      <td>3/14/19</td>\n",
              "      <td>19:38:10</td>\n",
              "      <td>T=22.0</td>\n",
              "      <td>H=20.0</td>\n",
              "    </tr>\n",
              "    <tr>\n",
              "      <th>1</th>\n",
              "      <td>3/14/19</td>\n",
              "      <td>19:43:11</td>\n",
              "      <td>T=22.0</td>\n",
              "      <td>H=26.0</td>\n",
              "    </tr>\n",
              "    <tr>\n",
              "      <th>2</th>\n",
              "      <td>3/14/19</td>\n",
              "      <td>19:48:14</td>\n",
              "      <td>T=22.0</td>\n",
              "      <td>H=26.0</td>\n",
              "    </tr>\n",
              "    <tr>\n",
              "      <th>3</th>\n",
              "      <td>3/14/19</td>\n",
              "      <td>19:53:15</td>\n",
              "      <td>T=22.0</td>\n",
              "      <td>H=20.0</td>\n",
              "    </tr>\n",
              "    <tr>\n",
              "      <th>4</th>\n",
              "      <td>3/14/19</td>\n",
              "      <td>19:58:15</td>\n",
              "      <td>T=22.0</td>\n",
              "      <td>H=23.0</td>\n",
              "    </tr>\n",
              "    <tr>\n",
              "      <th>...</th>\n",
              "      <td>...</td>\n",
              "      <td>...</td>\n",
              "      <td>...</td>\n",
              "      <td>...</td>\n",
              "    </tr>\n",
              "    <tr>\n",
              "      <th>330</th>\n",
              "      <td>3/15/19</td>\n",
              "      <td>23:48:51</td>\n",
              "      <td>T=18.0</td>\n",
              "      <td>H=28.0</td>\n",
              "    </tr>\n",
              "    <tr>\n",
              "      <th>331</th>\n",
              "      <td>3/15/19</td>\n",
              "      <td>23:53:51</td>\n",
              "      <td>T=18.0</td>\n",
              "      <td>H=22.0</td>\n",
              "    </tr>\n",
              "    <tr>\n",
              "      <th>332</th>\n",
              "      <td>3/15/19</td>\n",
              "      <td>23:58:52</td>\n",
              "      <td>T=18.0</td>\n",
              "      <td>H=22.0</td>\n",
              "    </tr>\n",
              "    <tr>\n",
              "      <th>333</th>\n",
              "      <td>3/16/19</td>\n",
              "      <td>0:03:52</td>\n",
              "      <td>T=18.0</td>\n",
              "      <td>H=22.0</td>\n",
              "    </tr>\n",
              "    <tr>\n",
              "      <th>334</th>\n",
              "      <td>3/16/19</td>\n",
              "      <td>0:08:53</td>\n",
              "      <td>T=18.0</td>\n",
              "      <td>H=22.0</td>\n",
              "    </tr>\n",
              "  </tbody>\n",
              "</table>\n",
              "<p>335 rows × 4 columns</p>\n",
              "</div>"
            ],
            "text/plain": [
              "        Date      Time Temperature Humidity\n",
              "0    3/14/19  19:38:10      T=22.0   H=20.0\n",
              "1    3/14/19  19:43:11      T=22.0   H=26.0\n",
              "2    3/14/19  19:48:14      T=22.0   H=26.0\n",
              "3    3/14/19  19:53:15      T=22.0   H=20.0\n",
              "4    3/14/19  19:58:15      T=22.0   H=23.0\n",
              "..       ...       ...         ...      ...\n",
              "330  3/15/19  23:48:51      T=18.0   H=28.0\n",
              "331  3/15/19  23:53:51      T=18.0   H=22.0\n",
              "332  3/15/19  23:58:52      T=18.0   H=22.0\n",
              "333  3/16/19   0:03:52      T=18.0   H=22.0\n",
              "334  3/16/19   0:08:53      T=18.0   H=22.0\n",
              "\n",
              "[335 rows x 4 columns]"
            ]
          },
          "metadata": {},
          "execution_count": 3
        }
      ]
    },
    {
      "cell_type": "markdown",
      "metadata": {
        "id": "iguhs0tymulD"
      },
      "source": [
        "\n",
        "### Date and time are independant variable<br>\n",
        "###Temperature is a depandant variable\n",
        "\n"
      ]
    },
    {
      "cell_type": "code",
      "metadata": {
        "id": "FQwXbHT-OPgZ"
      },
      "source": [
        "dataset[\"Temperature\"] = dataset[\"Temperature\"].str.slice(start=2,stop=6)\n",
        "dataset[\"Humidity\"] = dataset[\"Humidity\"].str.slice(start=2,stop=6)\n",
        "dataset.to_csv(\"cleaned_data.csv\")"
      ],
      "execution_count": null,
      "outputs": []
    },
    {
      "cell_type": "code",
      "metadata": {
        "colab": {
          "base_uri": "https://localhost:8080/"
        },
        "id": "oEs9TLNQM-6O",
        "outputId": "7d3c493f-0293-4b52-db29-77784f2516b6"
      },
      "source": [
        "df=dataset\n",
        "df[\"Humidity\"].value_counts()"
      ],
      "execution_count": null,
      "outputs": [
        {
          "output_type": "execute_result",
          "data": {
            "text/plain": [
              "21.0    52\n",
              "22.0    49\n",
              "20.0    44\n",
              "19.0    28\n",
              "24.0    21\n",
              "23.0    21\n",
              "26.0    18\n",
              "28.0    13\n",
              "27.0    12\n",
              "16.0    11\n",
              "15.0     9\n",
              "25.0     7\n",
              "14.0     7\n",
              "13.0     7\n",
              "17.0     6\n",
              "18.0     4\n",
              "30.0     3\n",
              "33.0     2\n",
              "29.0     2\n",
              "12.0     1\n",
              "37.0     1\n",
              "140.     1\n",
              "Name: Humidity, dtype: int64"
            ]
          },
          "metadata": {},
          "execution_count": 5
        }
      ]
    },
    {
      "cell_type": "code",
      "metadata": {
        "colab": {
          "base_uri": "https://localhost:8080/"
        },
        "id": "VeNWWshfZ05U",
        "outputId": "09c975d7-992d-452c-b3b7-231b4cddb96f"
      },
      "source": [
        "df[\"Temperature\"].value_counts()"
      ],
      "execution_count": null,
      "outputs": [
        {
          "output_type": "execute_result",
          "data": {
            "text/plain": [
              "21.0    41\n",
              "19.0    40\n",
              "18.0    35\n",
              "22.0    31\n",
              "20.0    29\n",
              "16.0    25\n",
              "23.0    25\n",
              "17.0    24\n",
              "ror     16\n",
              "30.0    12\n",
              "15.0    11\n",
              "34.0     7\n",
              "35.0     7\n",
              "24.0     7\n",
              "31.0     5\n",
              "33.0     3\n",
              "27.0     3\n",
              "32.0     3\n",
              "25.0     2\n",
              "29.0     2\n",
              "28.0     2\n",
              "36.0     2\n",
              "37.0     1\n",
              "9.0      1\n",
              "26.0     1\n",
              "Name: Temperature, dtype: int64"
            ]
          },
          "metadata": {},
          "execution_count": 6
        }
      ]
    },
    {
      "cell_type": "markdown",
      "metadata": {
        "id": "MftsH241aACg"
      },
      "source": [
        "##There are 16 error values \n",
        "Replace them by mean value"
      ]
    },
    {
      "cell_type": "code",
      "metadata": {
        "colab": {
          "base_uri": "https://localhost:8080/"
        },
        "id": "9WkhqQIbaMR2",
        "outputId": "402cb5d9-703e-4deb-c468-6b1866dae86f"
      },
      "source": [
        " df = df.replace(\"ror\",np.nan)\n",
        " df.Temperature=df.Temperature.astype(float)\n",
        " df.Humidity=df.Humidity.astype(float)\n",
        " df = df.replace(np.nan,df[\"Temperature\"].mean())\n",
        " df.dtypes"
      ],
      "execution_count": null,
      "outputs": [
        {
          "output_type": "execute_result",
          "data": {
            "text/plain": [
              "Date            object\n",
              "Time            object\n",
              "Temperature    float64\n",
              "Humidity       float64\n",
              "dtype: object"
            ]
          },
          "metadata": {},
          "execution_count": 7
        }
      ]
    },
    {
      "cell_type": "code",
      "metadata": {
        "colab": {
          "base_uri": "https://localhost:8080/",
          "height": 296
        },
        "id": "k29ONvLKVigW",
        "outputId": "ab6a4a6f-2745-4d75-9617-878934b269f9"
      },
      "source": [
        "fig,ax=plt.subplots()\n",
        "ax.scatter(df[\"Temperature\"],df[\"Humidity\"],color=\"orange\")\n",
        "ax.set(xlabel=\"Temperature\",ylabel=\"Humidity\")\n"
      ],
      "execution_count": null,
      "outputs": [
        {
          "output_type": "execute_result",
          "data": {
            "text/plain": [
              "[Text(0, 0.5, 'Humidity'), Text(0.5, 0, 'Temperature')]"
            ]
          },
          "metadata": {},
          "execution_count": 8
        },
        {
          "output_type": "display_data",
          "data": {
            "image/png": "[encoded data removed]",
            "text/plain": [
              "<Figure size 432x288 with 1 Axes>"
            ]
          },
          "metadata": {
            "needs_background": "light"
          }
        }
      ]
    },
    {
      "cell_type": "markdown",
      "metadata": {
        "id": "Y7pd6gLin62h"
      },
      "source": [
        "**We should remove the outlier**<br>\n",
        "**To get better results**<br>\n",
        "140 is an outlier"
      ]
    },
    {
      "cell_type": "code",
      "metadata": {
        "colab": {
          "base_uri": "https://localhost:8080/"
        },
        "id": "9-1i0MCooKvY",
        "outputId": "8ca3210e-146c-4013-f287-52dc9162e8e1"
      },
      "source": [
        "df=df[df[\"Humidity\"]!=140.0]\n",
        "df.count"
      ],
      "execution_count": null,
      "outputs": [
        {
          "output_type": "execute_result",
          "data": {
            "text/plain": [
              "<bound method DataFrame.count of         Date      Time  Temperature  Humidity\n",
              "0    3/14/19  19:38:10         22.0      20.0\n",
              "1    3/14/19  19:43:11         22.0      26.0\n",
              "2    3/14/19  19:48:14         22.0      26.0\n",
              "3    3/14/19  19:53:15         22.0      20.0\n",
              "4    3/14/19  19:58:15         22.0      23.0\n",
              "..       ...       ...          ...       ...\n",
              "330  3/15/19  23:48:51         18.0      28.0\n",
              "331  3/15/19  23:53:51         18.0      22.0\n",
              "332  3/15/19  23:58:52         18.0      22.0\n",
              "333  3/16/19   0:03:52         18.0      22.0\n",
              "334  3/16/19   0:08:53         18.0      22.0\n",
              "\n",
              "[334 rows x 4 columns]>"
            ]
          },
          "metadata": {},
          "execution_count": 9
        }
      ]
    },
    {
      "cell_type": "code",
      "metadata": {
        "colab": {
          "base_uri": "https://localhost:8080/",
          "height": 296
        },
        "id": "X1PbulWJof9S",
        "outputId": "33ca1a7d-7f42-42c0-d9e8-4121400b640d"
      },
      "source": [
        "fig,ax=plt.subplots()\n",
        "ax.scatter(df[\"Temperature\"],df[\"Humidity\"],color=\"orange\")\n",
        "ax.set(xlabel=\"Temperature\",ylabel=\"Humidity\")"
      ],
      "execution_count": null,
      "outputs": [
        {
          "output_type": "execute_result",
          "data": {
            "text/plain": [
              "[Text(0, 0.5, 'Humidity'), Text(0.5, 0, 'Temperature')]"
            ]
          },
          "metadata": {},
          "execution_count": 10
        },
        {
          "output_type": "display_data",
          "data": {
            "image/png": "[encoded data removed]",
            "text/plain": [
              "<Figure size 432x288 with 1 Axes>"
            ]
          },
          "metadata": {
            "needs_background": "light"
          }
        }
      ]
    },
    {
      "cell_type": "code",
      "metadata": {
        "id": "BwmS_q9AolPS",
        "colab": {
          "base_uri": "https://localhost:8080/",
          "height": 195
        },
        "outputId": "3649ea56-4fa2-4bf7-a7f9-96cf4edf4528"
      },
      "source": [
        "  x=np.array(df[\"Temperature\"]).reshape(-1,1)\n",
        "y=np.array(df[\"Humidity\"]).reshape(-1,1)\n",
        "model=LinearRegression().fit(x,y)\n",
        "model.functions\n"
      ],
      "execution_count": null,
      "outputs": [
        {
          "output_type": "error",
          "ename": "AttributeError",
          "evalue": "ignored",
          "traceback": [
            "\u001b[0;31m---------------------------------------------------------------------------\u001b[0m",
            "\u001b[0;31mAttributeError\u001b[0m                            Traceback (most recent call last)",
            "\u001b[0;32m<ipython-input-11-3b649d8a7738>\u001b[0m in \u001b[0;36m<module>\u001b[0;34m()\u001b[0m\n\u001b[1;32m      2\u001b[0m \u001b[0my\u001b[0m\u001b[0;34m=\u001b[0m\u001b[0mnp\u001b[0m\u001b[0;34m.\u001b[0m\u001b[0marray\u001b[0m\u001b[0;34m(\u001b[0m\u001b[0mdf\u001b[0m\u001b[0;34m[\u001b[0m\u001b[0;34m\"Humidity\"\u001b[0m\u001b[0;34m]\u001b[0m\u001b[0;34m)\u001b[0m\u001b[0;34m.\u001b[0m\u001b[0mreshape\u001b[0m\u001b[0;34m(\u001b[0m\u001b[0;34m-\u001b[0m\u001b[0;36m1\u001b[0m\u001b[0;34m,\u001b[0m\u001b[0;36m1\u001b[0m\u001b[0;34m)\u001b[0m\u001b[0;34m\u001b[0m\u001b[0;34m\u001b[0m\u001b[0m\n\u001b[1;32m      3\u001b[0m \u001b[0mmodel\u001b[0m\u001b[0;34m=\u001b[0m\u001b[0mLinearRegression\u001b[0m\u001b[0;34m(\u001b[0m\u001b[0;34m)\u001b[0m\u001b[0;34m.\u001b[0m\u001b[0mfit\u001b[0m\u001b[0;34m(\u001b[0m\u001b[0mx\u001b[0m\u001b[0;34m,\u001b[0m\u001b[0my\u001b[0m\u001b[0;34m)\u001b[0m\u001b[0;34m\u001b[0m\u001b[0;34m\u001b[0m\u001b[0m\n\u001b[0;32m----> 4\u001b[0;31m \u001b[0mmodel\u001b[0m\u001b[0;34m.\u001b[0m\u001b[0mfunctions\u001b[0m\u001b[0;34m\u001b[0m\u001b[0;34m\u001b[0m\u001b[0m\n\u001b[0m",
            "\u001b[0;31mAttributeError\u001b[0m: 'LinearRegression' object has no attribute 'functions'"
          ]
        }
      ]
    },
    {
      "cell_type": "markdown",
      "metadata": {
        "id": "vUkVkGGYM-nG"
      },
      "source": [
        ""
      ]
    },
    {
      "cell_type": "code",
      "metadata": {
        "id": "SvnGFXNmkBsc"
      },
      "source": [
        "fig,ax=plt.subplots()\n",
        "ax.scatter(df[\"Temperature\"],df[\"Humidity\"],color=\"orange\")\n",
        "ax.set(xlabel=\"Temperature\",ylabel=\"Humidity\")\n",
        "ax.plot(x,model.predict(x))"
      ],
      "execution_count": null,
      "outputs": []
    },
    {
      "cell_type": "markdown",
      "metadata": {
        "id": "KiEtNPbhpmhX"
      },
      "source": [
        "<h3><b>CONCLUSION</b></h3>\n",
        "<h4>\n",
        " Temperature closly affets humidity<br>\n",
        " Temperature and Humidity are inversely proportional<br>\n",
        " When Temperature increases Humidity will decrease\n",
        " <h4>"
      ]
    }
  ]
}